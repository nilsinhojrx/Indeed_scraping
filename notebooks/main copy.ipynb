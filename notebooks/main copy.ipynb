{
 "cells": [
  {
   "cell_type": "markdown",
   "metadata": {},
   "source": [
    "##### Importações:"
   ]
  },
  {
   "cell_type": "code",
   "execution_count": 1,
   "metadata": {},
   "outputs": [],
   "source": [
    "import logging\n",
    "from selenium.webdriver.remote.remote_connection import LOGGER\n",
    "from selenium.common.exceptions import *\n",
    "from selenium.webdriver.support import expected_conditions\n",
    "from selenium.webdriver.support.ui import WebDriverWait\n",
    "from selenium import webdriver\n",
    "from selenium.webdriver.common.by import By\n",
    "from selenium.webdriver.chrome.options import Options\n",
    "from selenium.webdriver.common.keys import Keys\n",
    "from parsel import Selector\n",
    "from time import sleep\n",
    "import random\n",
    "import pandas as pd"
   ]
  },
  {
   "cell_type": "markdown",
   "metadata": {},
   "source": [
    "##### Funções"
   ]
  },
  {
   "cell_type": "markdown",
   "metadata": {},
   "source": [
    "Função que inicia o driver"
   ]
  },
  {
   "cell_type": "code",
   "execution_count": 2,
   "metadata": {},
   "outputs": [],
   "source": [
    "def start_driver():\n",
    "    options = Options()\n",
    "    LOGGER.setLevel(logging.WARNING)\n",
    "    # add arguments to options variable:\n",
    "    arguments = ['--lang=pt-BR', '--start-maximized', '--disable-notifications'] #'--headless'\n",
    "    for argument in arguments:\n",
    "        options.add_argument(argument)\n",
    "\n",
    "    driver = webdriver.Chrome(options=options)\n",
    "\n",
    "    wait = WebDriverWait(\n",
    "        driver,\n",
    "        10,\n",
    "        poll_frequency=1,\n",
    "        ignored_exceptions=[\n",
    "            NoSuchElementException,\n",
    "            ElementNotVisibleException,\n",
    "            ElementNotSelectableException\n",
    "        ]\n",
    "    )\n",
    "    return driver, wait"
   ]
  },
  {
   "cell_type": "markdown",
   "metadata": {},
   "source": [
    "Função para digitar naturalmente"
   ]
  },
  {
   "cell_type": "code",
   "execution_count": 3,
   "metadata": {},
   "outputs": [],
   "source": [
    "def natural_type(text, field):\n",
    "    for letter in text:\n",
    "        field.send_keys(letter)\n",
    "        sleep(random.randint(1,5)/30)\n"
   ]
  },
  {
   "cell_type": "markdown",
   "metadata": {},
   "source": [
    "Função para abrir a página"
   ]
  },
  {
   "cell_type": "code",
   "execution_count": 14,
   "metadata": {},
   "outputs": [],
   "source": [
    "def get_page(site, driver, wait):\n",
    "    return driver.get(site)"
   ]
  },
  {
   "cell_type": "markdown",
   "metadata": {},
   "source": [
    "Função para pesquisar as vagas"
   ]
  },
  {
   "cell_type": "code",
   "execution_count": 15,
   "metadata": {},
   "outputs": [],
   "source": [
    "def search(driver, wait, text):\n",
    "    wait.until(\n",
    "        expected_conditions.visibility_of_all_elements_located(\n",
    "        (By.XPATH, \"//input[@id='text-input-what']\")\n",
    "        )\n",
    "    )\n",
    "    wait.until(\n",
    "        expected_conditions.element_to_be_clickable(\n",
    "            (By.XPATH, \"//input[@id='text-input-what']\")\n",
    "        )\n",
    "    )\n",
    "    \n",
    "    job_field = driver.find_element(By.XPATH, \"//input[@id='text-input-what']\")\n",
    "    job_field.click()\n",
    "    natural_type(text[0], job_field)\n",
    "    sleep(1.2)\n",
    "    location_field = driver.find_element(By.XPATH, \"//input[@id='text-input-where']\")\n",
    "    location_field.click()\n",
    "    sleep(1.8)\n",
    "    natural_type(text[1], location_field)\n",
    "    location_field.send_keys(Keys.ENTER)\n",
    "    wait.until(\n",
    "        expected_conditions.visibility_of_all_elements_located(\n",
    "            (By.XPATH, \"//td[@class='resultContent css-1qwrrf0 eu4oa1w0']\")\n",
    "        )\n",
    "    )\n"
   ]
  },
  {
   "cell_type": "markdown",
   "metadata": {},
   "source": [
    "Função para scraping"
   ]
  },
  {
   "cell_type": "code",
   "execution_count": 6,
   "metadata": {},
   "outputs": [],
   "source": [
    "def scrape(driver, wait, base_url):\n",
    "    response = Selector(text=driver.page_source)\n",
    "    for vaga in response.xpath(\"//td[@class='resultContent css-1qwrrf0 eu4oa1w0']\"):\n",
    "        yield {\n",
    "            \"Cargo\" : vaga.xpath(\"./div/h2/a/span/text()\").get(),\n",
    "            \"Empresa\" : vaga.xpath(\"./div[@class='company_location css-17fky0v e37uo190']//span[@data-testid='company-name']/text()\").get(),\n",
    "            \"Local\" : vaga.xpath(\"./div[@class='company_location css-17fky0v e37uo190']/div/div[@data-testid='text-location']/text()\").get(),\n",
    "            \"Link\" : base_url + vaga.xpath(\"./div/h2/a/@href\").get()\n",
    "        }"
   ]
  },
  {
   "cell_type": "markdown",
   "metadata": {},
   "source": [
    "##### Função para scraping"
   ]
  },
  {
   "cell_type": "code",
   "execution_count": 7,
   "metadata": {},
   "outputs": [],
   "source": [
    "def next_page(driver, wait):\n",
    "    next_btn = driver.find_element(By.XPATH, \"//a[@aria-label='Next Page']\")\n",
    "    driver.execute_script(\"arguments[0].scrollIntoView();\", next_btn) \n",
    "    next_btn.click()\n",
    "    wait.until(\n",
    "        expected_conditions.element_to_be_clickable(\n",
    "            (By.XPATH, \"//td[@class='resultContent css-1qwrrf0 eu4oa1w0']\")\n",
    "        )\n",
    "    )"
   ]
  },
  {
   "cell_type": "markdown",
   "metadata": {},
   "source": [
    "##### Função main"
   ]
  },
  {
   "cell_type": "code",
   "execution_count": 18,
   "metadata": {},
   "outputs": [],
   "source": [
    "def main():\n",
    "    site = \"https://br.indeed.com\"\n",
    "    text = [\"Python\", \"Belo Horizonte, MG\"]\n",
    "    data = []\n",
    "    driver, wait = start_driver()\n",
    "    get_page(site, driver, wait)\n",
    "    search(driver, wait, text)\n",
    "    # iniciando o scraping...\n",
    "    while True:\n",
    "        page_data = scrape(driver, wait, site)\n",
    "        data.extend(page_data)\n",
    "        # pagination:\n",
    "        try:\n",
    "            next_page(driver, wait)\n",
    "        except:\n",
    "            break\n",
    "    # salvando os dados:\n",
    "    df = pd.DataFrame(data)\n",
    "    df.to_json(\"vagas.json\", orient='records', index=False)  \n"
   ]
  },
  {
   "cell_type": "markdown",
   "metadata": {},
   "source": [
    "##### Executando..."
   ]
  },
  {
   "cell_type": "code",
   "execution_count": 19,
   "metadata": {},
   "outputs": [
    {
     "ename": "StaleElementReferenceException",
     "evalue": "Message: stale element reference: stale element not found in the current frame\n  (Session info: chrome=125.0.6422.142); For documentation on this error, please visit: https://www.selenium.dev/documentation/webdriver/troubleshooting/errors#stale-element-reference-exception\nStacktrace:\n\tGetHandleVerifier [0x00007FF7ED0E1F52+60322]\n\t(No symbol) [0x00007FF7ED05CEC9]\n\t(No symbol) [0x00007FF7ECF17EBA]\n\t(No symbol) [0x00007FF7ECF1DCEE]\n\t(No symbol) [0x00007FF7ECF20641]\n\t(No symbol) [0x00007FF7ECF206E0]\n\t(No symbol) [0x00007FF7ECF68392]\n\t(No symbol) [0x00007FF7ECF68472]\n\t(No symbol) [0x00007FF7ECF5E449]\n\t(No symbol) [0x00007FF7ECF8C21A]\n\t(No symbol) [0x00007FF7ECF5ADB6]\n\t(No symbol) [0x00007FF7ECF8C430]\n\t(No symbol) [0x00007FF7ECFABC80]\n\t(No symbol) [0x00007FF7ECF8BFC3]\n\t(No symbol) [0x00007FF7ECF59617]\n\t(No symbol) [0x00007FF7ECF5A211]\n\tGetHandleVerifier [0x00007FF7ED3F94AD+3301629]\n\tGetHandleVerifier [0x00007FF7ED4436D3+3605283]\n\tGetHandleVerifier [0x00007FF7ED439450+3563680]\n\tGetHandleVerifier [0x00007FF7ED194326+790390]\n\t(No symbol) [0x00007FF7ED06750F]\n\t(No symbol) [0x00007FF7ED063404]\n\t(No symbol) [0x00007FF7ED063592]\n\t(No symbol) [0x00007FF7ED052F9F]\n\tBaseThreadInitThunk [0x00007FFC29F5257D+29]\n\tRtlUserThreadStart [0x00007FFC2B4CAF28+40]\n",
     "output_type": "error",
     "traceback": [
      "\u001b[1;31m---------------------------------------------------------------------------\u001b[0m",
      "\u001b[1;31mStaleElementReferenceException\u001b[0m            Traceback (most recent call last)",
      "Cell \u001b[1;32mIn[19], line 1\u001b[0m\n\u001b[1;32m----> 1\u001b[0m \u001b[43mmain\u001b[49m\u001b[43m(\u001b[49m\u001b[43m)\u001b[49m\n",
      "Cell \u001b[1;32mIn[18], line 7\u001b[0m, in \u001b[0;36mmain\u001b[1;34m()\u001b[0m\n\u001b[0;32m      5\u001b[0m driver, wait \u001b[38;5;241m=\u001b[39m start_driver()\n\u001b[0;32m      6\u001b[0m get_page(site, driver, wait)\n\u001b[1;32m----> 7\u001b[0m \u001b[43msearch\u001b[49m\u001b[43m(\u001b[49m\u001b[43mdriver\u001b[49m\u001b[43m,\u001b[49m\u001b[43m \u001b[49m\u001b[43mwait\u001b[49m\u001b[43m,\u001b[49m\u001b[43m \u001b[49m\u001b[43mtext\u001b[49m\u001b[43m)\u001b[49m\n\u001b[0;32m      8\u001b[0m \u001b[38;5;66;03m# iniciando o scraping...\u001b[39;00m\n\u001b[0;32m      9\u001b[0m \u001b[38;5;28;01mwhile\u001b[39;00m \u001b[38;5;28;01mTrue\u001b[39;00m:\n",
      "Cell \u001b[1;32mIn[15], line 15\u001b[0m, in \u001b[0;36msearch\u001b[1;34m(driver, wait, text)\u001b[0m\n\u001b[0;32m     13\u001b[0m job_field \u001b[38;5;241m=\u001b[39m driver\u001b[38;5;241m.\u001b[39mfind_element(By\u001b[38;5;241m.\u001b[39mXPATH, \u001b[38;5;124m\"\u001b[39m\u001b[38;5;124m//input[@id=\u001b[39m\u001b[38;5;124m'\u001b[39m\u001b[38;5;124mtext-input-what\u001b[39m\u001b[38;5;124m'\u001b[39m\u001b[38;5;124m]\u001b[39m\u001b[38;5;124m\"\u001b[39m)\n\u001b[0;32m     14\u001b[0m job_field\u001b[38;5;241m.\u001b[39mclick()\n\u001b[1;32m---> 15\u001b[0m \u001b[43mnatural_type\u001b[49m\u001b[43m(\u001b[49m\u001b[43mtext\u001b[49m\u001b[43m[\u001b[49m\u001b[38;5;241;43m0\u001b[39;49m\u001b[43m]\u001b[49m\u001b[43m,\u001b[49m\u001b[43m \u001b[49m\u001b[43mjob_field\u001b[49m\u001b[43m)\u001b[49m\n\u001b[0;32m     16\u001b[0m sleep(\u001b[38;5;241m1.2\u001b[39m)\n\u001b[0;32m     17\u001b[0m location_field \u001b[38;5;241m=\u001b[39m driver\u001b[38;5;241m.\u001b[39mfind_element(By\u001b[38;5;241m.\u001b[39mXPATH, \u001b[38;5;124m\"\u001b[39m\u001b[38;5;124m//input[@id=\u001b[39m\u001b[38;5;124m'\u001b[39m\u001b[38;5;124mtext-input-where\u001b[39m\u001b[38;5;124m'\u001b[39m\u001b[38;5;124m]\u001b[39m\u001b[38;5;124m\"\u001b[39m)\n",
      "Cell \u001b[1;32mIn[3], line 3\u001b[0m, in \u001b[0;36mnatural_type\u001b[1;34m(text, field)\u001b[0m\n\u001b[0;32m      1\u001b[0m \u001b[38;5;28;01mdef\u001b[39;00m \u001b[38;5;21mnatural_type\u001b[39m(text, field):\n\u001b[0;32m      2\u001b[0m     \u001b[38;5;28;01mfor\u001b[39;00m letter \u001b[38;5;129;01min\u001b[39;00m text:\n\u001b[1;32m----> 3\u001b[0m         \u001b[43mfield\u001b[49m\u001b[38;5;241;43m.\u001b[39;49m\u001b[43msend_keys\u001b[49m\u001b[43m(\u001b[49m\u001b[43mletter\u001b[49m\u001b[43m)\u001b[49m\n\u001b[0;32m      4\u001b[0m         sleep(random\u001b[38;5;241m.\u001b[39mrandint(\u001b[38;5;241m1\u001b[39m,\u001b[38;5;241m5\u001b[39m)\u001b[38;5;241m/\u001b[39m\u001b[38;5;241m30\u001b[39m)\n",
      "File \u001b[1;32me:\\DevAprender_cursos\\Mestres_da_Automação\\Módulo06-web_scraping\\vagas_indeed_parsel\\venv\\Lib\\site-packages\\selenium\\webdriver\\remote\\webelement.py:231\u001b[0m, in \u001b[0;36mWebElement.send_keys\u001b[1;34m(self, *value)\u001b[0m\n\u001b[0;32m    228\u001b[0m             remote_files\u001b[38;5;241m.\u001b[39mappend(\u001b[38;5;28mself\u001b[39m\u001b[38;5;241m.\u001b[39m_upload(file))\n\u001b[0;32m    229\u001b[0m         value \u001b[38;5;241m=\u001b[39m \u001b[38;5;124m\"\u001b[39m\u001b[38;5;130;01m\\n\u001b[39;00m\u001b[38;5;124m\"\u001b[39m\u001b[38;5;241m.\u001b[39mjoin(remote_files)\n\u001b[1;32m--> 231\u001b[0m \u001b[38;5;28;43mself\u001b[39;49m\u001b[38;5;241;43m.\u001b[39;49m\u001b[43m_execute\u001b[49m\u001b[43m(\u001b[49m\n\u001b[0;32m    232\u001b[0m \u001b[43m    \u001b[49m\u001b[43mCommand\u001b[49m\u001b[38;5;241;43m.\u001b[39;49m\u001b[43mSEND_KEYS_TO_ELEMENT\u001b[49m\u001b[43m,\u001b[49m\u001b[43m \u001b[49m\u001b[43m{\u001b[49m\u001b[38;5;124;43m\"\u001b[39;49m\u001b[38;5;124;43mtext\u001b[39;49m\u001b[38;5;124;43m\"\u001b[39;49m\u001b[43m:\u001b[49m\u001b[43m \u001b[49m\u001b[38;5;124;43m\"\u001b[39;49m\u001b[38;5;124;43m\"\u001b[39;49m\u001b[38;5;241;43m.\u001b[39;49m\u001b[43mjoin\u001b[49m\u001b[43m(\u001b[49m\u001b[43mkeys_to_typing\u001b[49m\u001b[43m(\u001b[49m\u001b[43mvalue\u001b[49m\u001b[43m)\u001b[49m\u001b[43m)\u001b[49m\u001b[43m,\u001b[49m\u001b[43m \u001b[49m\u001b[38;5;124;43m\"\u001b[39;49m\u001b[38;5;124;43mvalue\u001b[39;49m\u001b[38;5;124;43m\"\u001b[39;49m\u001b[43m:\u001b[49m\u001b[43m \u001b[49m\u001b[43mkeys_to_typing\u001b[49m\u001b[43m(\u001b[49m\u001b[43mvalue\u001b[49m\u001b[43m)\u001b[49m\u001b[43m}\u001b[49m\n\u001b[0;32m    233\u001b[0m \u001b[43m\u001b[49m\u001b[43m)\u001b[49m\n",
      "File \u001b[1;32me:\\DevAprender_cursos\\Mestres_da_Automação\\Módulo06-web_scraping\\vagas_indeed_parsel\\venv\\Lib\\site-packages\\selenium\\webdriver\\remote\\webelement.py:395\u001b[0m, in \u001b[0;36mWebElement._execute\u001b[1;34m(self, command, params)\u001b[0m\n\u001b[0;32m    393\u001b[0m     params \u001b[38;5;241m=\u001b[39m {}\n\u001b[0;32m    394\u001b[0m params[\u001b[38;5;124m\"\u001b[39m\u001b[38;5;124mid\u001b[39m\u001b[38;5;124m\"\u001b[39m] \u001b[38;5;241m=\u001b[39m \u001b[38;5;28mself\u001b[39m\u001b[38;5;241m.\u001b[39m_id\n\u001b[1;32m--> 395\u001b[0m \u001b[38;5;28;01mreturn\u001b[39;00m \u001b[38;5;28;43mself\u001b[39;49m\u001b[38;5;241;43m.\u001b[39;49m\u001b[43m_parent\u001b[49m\u001b[38;5;241;43m.\u001b[39;49m\u001b[43mexecute\u001b[49m\u001b[43m(\u001b[49m\u001b[43mcommand\u001b[49m\u001b[43m,\u001b[49m\u001b[43m \u001b[49m\u001b[43mparams\u001b[49m\u001b[43m)\u001b[49m\n",
      "File \u001b[1;32me:\\DevAprender_cursos\\Mestres_da_Automação\\Módulo06-web_scraping\\vagas_indeed_parsel\\venv\\Lib\\site-packages\\selenium\\webdriver\\remote\\webdriver.py:347\u001b[0m, in \u001b[0;36mWebDriver.execute\u001b[1;34m(self, driver_command, params)\u001b[0m\n\u001b[0;32m    345\u001b[0m response \u001b[38;5;241m=\u001b[39m \u001b[38;5;28mself\u001b[39m\u001b[38;5;241m.\u001b[39mcommand_executor\u001b[38;5;241m.\u001b[39mexecute(driver_command, params)\n\u001b[0;32m    346\u001b[0m \u001b[38;5;28;01mif\u001b[39;00m response:\n\u001b[1;32m--> 347\u001b[0m     \u001b[38;5;28;43mself\u001b[39;49m\u001b[38;5;241;43m.\u001b[39;49m\u001b[43merror_handler\u001b[49m\u001b[38;5;241;43m.\u001b[39;49m\u001b[43mcheck_response\u001b[49m\u001b[43m(\u001b[49m\u001b[43mresponse\u001b[49m\u001b[43m)\u001b[49m\n\u001b[0;32m    348\u001b[0m     response[\u001b[38;5;124m\"\u001b[39m\u001b[38;5;124mvalue\u001b[39m\u001b[38;5;124m\"\u001b[39m] \u001b[38;5;241m=\u001b[39m \u001b[38;5;28mself\u001b[39m\u001b[38;5;241m.\u001b[39m_unwrap_value(response\u001b[38;5;241m.\u001b[39mget(\u001b[38;5;124m\"\u001b[39m\u001b[38;5;124mvalue\u001b[39m\u001b[38;5;124m\"\u001b[39m, \u001b[38;5;28;01mNone\u001b[39;00m))\n\u001b[0;32m    349\u001b[0m     \u001b[38;5;28;01mreturn\u001b[39;00m response\n",
      "File \u001b[1;32me:\\DevAprender_cursos\\Mestres_da_Automação\\Módulo06-web_scraping\\vagas_indeed_parsel\\venv\\Lib\\site-packages\\selenium\\webdriver\\remote\\errorhandler.py:229\u001b[0m, in \u001b[0;36mErrorHandler.check_response\u001b[1;34m(self, response)\u001b[0m\n\u001b[0;32m    227\u001b[0m         alert_text \u001b[38;5;241m=\u001b[39m value[\u001b[38;5;124m\"\u001b[39m\u001b[38;5;124malert\u001b[39m\u001b[38;5;124m\"\u001b[39m]\u001b[38;5;241m.\u001b[39mget(\u001b[38;5;124m\"\u001b[39m\u001b[38;5;124mtext\u001b[39m\u001b[38;5;124m\"\u001b[39m)\n\u001b[0;32m    228\u001b[0m     \u001b[38;5;28;01mraise\u001b[39;00m exception_class(message, screen, stacktrace, alert_text)  \u001b[38;5;66;03m# type: ignore[call-arg]  # mypy is not smart enough here\u001b[39;00m\n\u001b[1;32m--> 229\u001b[0m \u001b[38;5;28;01mraise\u001b[39;00m exception_class(message, screen, stacktrace)\n",
      "\u001b[1;31mStaleElementReferenceException\u001b[0m: Message: stale element reference: stale element not found in the current frame\n  (Session info: chrome=125.0.6422.142); For documentation on this error, please visit: https://www.selenium.dev/documentation/webdriver/troubleshooting/errors#stale-element-reference-exception\nStacktrace:\n\tGetHandleVerifier [0x00007FF7ED0E1F52+60322]\n\t(No symbol) [0x00007FF7ED05CEC9]\n\t(No symbol) [0x00007FF7ECF17EBA]\n\t(No symbol) [0x00007FF7ECF1DCEE]\n\t(No symbol) [0x00007FF7ECF20641]\n\t(No symbol) [0x00007FF7ECF206E0]\n\t(No symbol) [0x00007FF7ECF68392]\n\t(No symbol) [0x00007FF7ECF68472]\n\t(No symbol) [0x00007FF7ECF5E449]\n\t(No symbol) [0x00007FF7ECF8C21A]\n\t(No symbol) [0x00007FF7ECF5ADB6]\n\t(No symbol) [0x00007FF7ECF8C430]\n\t(No symbol) [0x00007FF7ECFABC80]\n\t(No symbol) [0x00007FF7ECF8BFC3]\n\t(No symbol) [0x00007FF7ECF59617]\n\t(No symbol) [0x00007FF7ECF5A211]\n\tGetHandleVerifier [0x00007FF7ED3F94AD+3301629]\n\tGetHandleVerifier [0x00007FF7ED4436D3+3605283]\n\tGetHandleVerifier [0x00007FF7ED439450+3563680]\n\tGetHandleVerifier [0x00007FF7ED194326+790390]\n\t(No symbol) [0x00007FF7ED06750F]\n\t(No symbol) [0x00007FF7ED063404]\n\t(No symbol) [0x00007FF7ED063592]\n\t(No symbol) [0x00007FF7ED052F9F]\n\tBaseThreadInitThunk [0x00007FFC29F5257D+29]\n\tRtlUserThreadStart [0x00007FFC2B4CAF28+40]\n"
     ]
    }
   ],
   "source": [
    "main()"
   ]
  },
  {
   "cell_type": "markdown",
   "metadata": {},
   "source": [
    "Executando por partes:"
   ]
  }
 ],
 "metadata": {
  "kernelspec": {
   "display_name": "venv",
   "language": "python",
   "name": "python3"
  },
  "language_info": {
   "codemirror_mode": {
    "name": "ipython",
    "version": 3
   },
   "file_extension": ".py",
   "mimetype": "text/x-python",
   "name": "python",
   "nbconvert_exporter": "python",
   "pygments_lexer": "ipython3",
   "version": "3.11.4"
  }
 },
 "nbformat": 4,
 "nbformat_minor": 2
}
