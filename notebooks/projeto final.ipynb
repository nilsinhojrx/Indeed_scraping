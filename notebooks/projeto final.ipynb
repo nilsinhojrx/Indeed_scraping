{
 "cells": [
  {
   "cell_type": "markdown",
   "metadata": {},
   "source": [
    "##### Importações:"
   ]
  },
  {
   "cell_type": "code",
   "execution_count": 1,
   "metadata": {},
   "outputs": [],
   "source": [
    "import logging\n",
    "from selenium.webdriver.remote.remote_connection import LOGGER\n",
    "from selenium.common.exceptions import *\n",
    "from selenium.webdriver.support import expected_conditions\n",
    "from selenium.webdriver.support.ui import WebDriverWait\n",
    "from selenium import webdriver\n",
    "from selenium.webdriver.common.by import By\n",
    "from selenium.webdriver.chrome.options import Options\n",
    "from selenium.webdriver.common.keys import Keys\n",
    "from parsel import Selector\n",
    "from time import sleep\n",
    "import random\n",
    "import pandas as pd"
   ]
  },
  {
   "cell_type": "markdown",
   "metadata": {},
   "source": [
    "##### Funções"
   ]
  },
  {
   "cell_type": "markdown",
   "metadata": {},
   "source": [
    "Função que inicia o driver"
   ]
  },
  {
   "cell_type": "code",
   "execution_count": 3,
   "metadata": {},
   "outputs": [],
   "source": [
    "def start_driver():\n",
    "    options = Options()\n",
    "    LOGGER.setLevel(logging.WARNING)\n",
    "    # add arguments to options variable:\n",
    "    arguments = ['--lang=pt-BR', '--start-maximized', '--disable-notifications'] #'--headless'\n",
    "    for argument in arguments:\n",
    "        options.add_argument(argument)\n",
    "\n",
    "    driver = webdriver.Chrome(options=options)\n",
    "\n",
    "    wait = WebDriverWait(\n",
    "        driver,\n",
    "        10,\n",
    "        poll_frequency=1,\n",
    "        ignored_exceptions=[\n",
    "            NoSuchElementException,\n",
    "            ElementNotVisibleException,\n",
    "            ElementNotSelectableException\n",
    "        ]\n",
    "    )\n",
    "    return driver, wait"
   ]
  },
  {
   "cell_type": "markdown",
   "metadata": {},
   "source": [
    "Função para digitar naturalmente"
   ]
  },
  {
   "cell_type": "code",
   "execution_count": 4,
   "metadata": {},
   "outputs": [],
   "source": [
    "def natural_type(text, field):\n",
    "    for letter in text:\n",
    "        field.send_keys(letter)\n",
    "        sleep(random.randint(1,5)/30)\n"
   ]
  },
  {
   "cell_type": "markdown",
   "metadata": {},
   "source": [
    "Função para gerar intervalos aleatórios:"
   ]
  },
  {
   "cell_type": "code",
   "execution_count": 5,
   "metadata": {},
   "outputs": [],
   "source": [
    "def natural_type(text, field):\n",
    "    for letter in text:\n",
    "        field.send_keys(letter)\n",
    "        sleep(random.randint(1,5)/30)\n"
   ]
  },
  {
   "cell_type": "markdown",
   "metadata": {},
   "source": [
    "Função para abrir a página"
   ]
  },
  {
   "cell_type": "code",
   "execution_count": 6,
   "metadata": {},
   "outputs": [],
   "source": [
    "def get_page(site, driver, wait):\n",
    "    return driver.get(site)"
   ]
  },
  {
   "cell_type": "markdown",
   "metadata": {},
   "source": [
    "Função para pesquisar as vagas"
   ]
  },
  {
   "cell_type": "code",
   "execution_count": 9,
   "metadata": {},
   "outputs": [],
   "source": [
    "def search(driver, wait, text):\n",
    "    wait.until(\n",
    "        expected_conditions.visibility_of_all_elements_located(\n",
    "        (By.XPATH, \"//input[@id='text-input-what']\")\n",
    "        )\n",
    "    )\n",
    "    wait.until(\n",
    "        expected_conditions.element_to_be_clickable(\n",
    "            (By.XPATH, \"//input[@id='text-input-what']\")\n",
    "        )\n",
    "    )\n",
    "    \n",
    "    job_field = driver.find_element(By.XPATH, \"//input[@id='text-input-what']\")\n",
    "    job_field.click()\n",
    "    natural_type(text[0], job_field)\n",
    "    sleep(1.2)\n",
    "    location_field = driver.find_element(By.XPATH, \"//input[@id='text-input-where']\")\n",
    "    location_field.click()\n",
    "    sleep(1.8)\n",
    "    natural_type(text[1], location_field)\n",
    "    location_field.send_keys(Keys.ENTER)\n",
    "    wait.until(\n",
    "        expected_conditions.visibility_of_all_elements_located(\n",
    "            (By.XPATH, \"//td[@class='resultContent css-1qwrrf0 eu4oa1w0']\")\n",
    "        )\n",
    "    )\n"
   ]
  },
  {
   "cell_type": "markdown",
   "metadata": {},
   "source": [
    "Função para scraping"
   ]
  },
  {
   "cell_type": "code",
   "execution_count": 10,
   "metadata": {},
   "outputs": [],
   "source": [
    "def scrape(driver, wait, base_url):\n",
    "    response = Selector(text=driver.page_source)\n",
    "    for vaga in response.xpath(\"//td[@class='resultContent css-1qwrrf0 eu4oa1w0']\"):\n",
    "        yield {\n",
    "            \"Cargo\" : vaga.xpath(\"./div/h2/a/span/text()\").get(),\n",
    "            \"Empresa\" : vaga.xpath(\"./div[@class='company_location css-17fky0v e37uo190']//span[@data-testid='company-name']/text()\").get(),\n",
    "            \"Local\" : vaga.xpath(\"./div[@class='company_location css-17fky0v e37uo190']/div/div[@data-testid='text-location']/text()\").get(),\n",
    "            \"Link\" : base_url + vaga.xpath(\"./div/h2/a/@href\").get()\n",
    "        }"
   ]
  },
  {
   "cell_type": "markdown",
   "metadata": {},
   "source": [
    "##### Função para ir para a **próxima página**"
   ]
  },
  {
   "cell_type": "code",
   "execution_count": 11,
   "metadata": {},
   "outputs": [],
   "source": [
    "def next_page(driver, wait):\n",
    "    next_btn = driver.find_element(By.XPATH, \"//a[@aria-label='Next Page']\")\n",
    "    driver.execute_script(\"arguments[0].scrollIntoView();\", next_btn)\n",
    "    next_btn.click()\n",
    "    wait.until(\n",
    "        expected_conditions.element_to_be_clickable(\n",
    "            (By.XPATH, \"//td[@class='resultContent css-1qwrrf0 eu4oa1w0']\")\n",
    "        )\n",
    "    )"
   ]
  },
  {
   "cell_type": "markdown",
   "metadata": {},
   "source": [
    "##### Função main"
   ]
  },
  {
   "cell_type": "code",
   "execution_count": 12,
   "metadata": {},
   "outputs": [],
   "source": [
    "def main():\n",
    "    base_url = \"https://br.indeed.com\"\n",
    "    url = \"https://br.indeed.com/jobs?q=python&l=Belo+Horizonte%2C+MG&vjk=f0f0b60f99b7badf\"\n",
    "    data = []\n",
    "    driver, wait = start_driver()\n",
    "    get_page(url, driver, wait)\n",
    "    #search(driver, wait, text)\n",
    "    # iniciando o scraping...\n",
    "    while True:\n",
    "        page_data = scrape(driver, wait, base_url)\n",
    "        data.extend(page_data)\n",
    "        # pagination:\n",
    "        try:\n",
    "            next_page(driver, wait)\n",
    "        except ElementClickInterceptedException:\n",
    "            driver.refresh()\n",
    "        except:\n",
    "            break\n",
    "    # salvando os dados:\n",
    "    df = pd.DataFrame(data)\n",
    "    df.to_json(\"vagas.json\", orient='records', index=False)  \n"
   ]
  },
  {
   "cell_type": "markdown",
   "metadata": {},
   "source": [
    "##### Executando..."
   ]
  },
  {
   "cell_type": "code",
   "execution_count": 13,
   "metadata": {},
   "outputs": [],
   "source": [
    "main()"
   ]
  },
  {
   "cell_type": "markdown",
   "metadata": {},
   "source": [
    "Verificando o JSON:"
   ]
  },
  {
   "cell_type": "code",
   "execution_count": 17,
   "metadata": {},
   "outputs": [],
   "source": [
    "resultado = pd.read_json(\"vagas.json\")"
   ]
  },
  {
   "cell_type": "code",
   "execution_count": 18,
   "metadata": {},
   "outputs": [
    {
     "data": {
      "text/html": [
       "<div>\n",
       "<style scoped>\n",
       "    .dataframe tbody tr th:only-of-type {\n",
       "        vertical-align: middle;\n",
       "    }\n",
       "\n",
       "    .dataframe tbody tr th {\n",
       "        vertical-align: top;\n",
       "    }\n",
       "\n",
       "    .dataframe thead th {\n",
       "        text-align: right;\n",
       "    }\n",
       "</style>\n",
       "<table border=\"1\" class=\"dataframe\">\n",
       "  <thead>\n",
       "    <tr style=\"text-align: right;\">\n",
       "      <th></th>\n",
       "      <th>Cargo</th>\n",
       "      <th>Empresa</th>\n",
       "      <th>Local</th>\n",
       "      <th>Link</th>\n",
       "    </tr>\n",
       "  </thead>\n",
       "  <tbody>\n",
       "    <tr>\n",
       "      <th>0</th>\n",
       "      <td>Desenvolvedor Backend Júnior Python / Pesquisa...</td>\n",
       "      <td>BairesDev</td>\n",
       "      <td>Home Office in Belo Horizonte, MG</td>\n",
       "      <td>https://br.indeed.com/rc/clk?jk=f0f0b60f99b7ba...</td>\n",
       "    </tr>\n",
       "    <tr>\n",
       "      <th>1</th>\n",
       "      <td>Desenvolvedora/Engenheira Python - Trabalho Re...</td>\n",
       "      <td>BairesDev</td>\n",
       "      <td>Home Office in Belo Horizonte, MG</td>\n",
       "      <td>https://br.indeed.com/rc/clk?jk=064fa074d318a2...</td>\n",
       "    </tr>\n",
       "    <tr>\n",
       "      <th>2</th>\n",
       "      <td>Desenvolvedor Junior</td>\n",
       "      <td>ANA LEITE CONSULTORIA E GESTAO LTDA</td>\n",
       "      <td>Home Office in Belo Horizonte, MG</td>\n",
       "      <td>https://br.indeed.com/rc/clk?jk=79f5acab2b8ce2...</td>\n",
       "    </tr>\n",
       "    <tr>\n",
       "      <th>3</th>\n",
       "      <td>Desenvolvedor Python</td>\n",
       "      <td>Grupo LPJ</td>\n",
       "      <td>Home Office in Belo Horizonte, MG</td>\n",
       "      <td>https://br.indeed.com/rc/clk?jk=673d971751ec4b...</td>\n",
       "    </tr>\n",
       "    <tr>\n",
       "      <th>4</th>\n",
       "      <td>Analista de Business Intelligence</td>\n",
       "      <td>GRUPO BARCELOS</td>\n",
       "      <td>Belo Horizonte, MG</td>\n",
       "      <td>https://br.indeed.com/rc/clk?jk=e59beb315b119c...</td>\n",
       "    </tr>\n",
       "    <tr>\n",
       "      <th>...</th>\n",
       "      <td>...</td>\n",
       "      <td>...</td>\n",
       "      <td>...</td>\n",
       "      <td>...</td>\n",
       "    </tr>\n",
       "    <tr>\n",
       "      <th>287</th>\n",
       "      <td>Senior Mine Planning Optimization Consultant-C...</td>\n",
       "      <td>KPI Digital</td>\n",
       "      <td>Home Office in Belo Horizonte, MG</td>\n",
       "      <td>https://br.indeed.com/rc/clk?jk=f206170d694262...</td>\n",
       "    </tr>\n",
       "    <tr>\n",
       "      <th>288</th>\n",
       "      <td>Software Engineer for AI Training Data (Python)</td>\n",
       "      <td>G2i Inc.</td>\n",
       "      <td>Home Office in Minas Gerais</td>\n",
       "      <td>https://br.indeed.com/rc/clk?jk=5ae813ab021e86...</td>\n",
       "    </tr>\n",
       "    <tr>\n",
       "      <th>289</th>\n",
       "      <td>DevOps Engineer Sênior</td>\n",
       "      <td>Grupo Fácil</td>\n",
       "      <td>Belo Horizonte, MG</td>\n",
       "      <td>https://br.indeed.com/rc/clk?jk=6ca2f3ec790ea7...</td>\n",
       "    </tr>\n",
       "    <tr>\n",
       "      <th>290</th>\n",
       "      <td>Engenheiro de dados sênior (aws) - vaga tempor...</td>\n",
       "      <td>Netvagas</td>\n",
       "      <td>Belo Horizonte, MG</td>\n",
       "      <td>https://br.indeed.com/rc/clk?jk=f95b30c0128e74...</td>\n",
       "    </tr>\n",
       "    <tr>\n",
       "      <th>291</th>\n",
       "      <td>Software Engineer for AI Training Data (JavaSc...</td>\n",
       "      <td>G2i Inc.</td>\n",
       "      <td>Home Office in Minas Gerais</td>\n",
       "      <td>https://br.indeed.com/rc/clk?jk=02139b21c57ec2...</td>\n",
       "    </tr>\n",
       "  </tbody>\n",
       "</table>\n",
       "<p>292 rows × 4 columns</p>\n",
       "</div>"
      ],
      "text/plain": [
       "                                                 Cargo  \\\n",
       "0    Desenvolvedor Backend Júnior Python / Pesquisa...   \n",
       "1    Desenvolvedora/Engenheira Python - Trabalho Re...   \n",
       "2                                 Desenvolvedor Junior   \n",
       "3                                 Desenvolvedor Python   \n",
       "4                    Analista de Business Intelligence   \n",
       "..                                                 ...   \n",
       "287  Senior Mine Planning Optimization Consultant-C...   \n",
       "288    Software Engineer for AI Training Data (Python)   \n",
       "289                             DevOps Engineer Sênior   \n",
       "290  Engenheiro de dados sênior (aws) - vaga tempor...   \n",
       "291  Software Engineer for AI Training Data (JavaSc...   \n",
       "\n",
       "                                 Empresa                              Local  \\\n",
       "0                              BairesDev  Home Office in Belo Horizonte, MG   \n",
       "1                              BairesDev  Home Office in Belo Horizonte, MG   \n",
       "2    ANA LEITE CONSULTORIA E GESTAO LTDA  Home Office in Belo Horizonte, MG   \n",
       "3                              Grupo LPJ  Home Office in Belo Horizonte, MG   \n",
       "4                         GRUPO BARCELOS                 Belo Horizonte, MG   \n",
       "..                                   ...                                ...   \n",
       "287                          KPI Digital  Home Office in Belo Horizonte, MG   \n",
       "288                             G2i Inc.        Home Office in Minas Gerais   \n",
       "289                          Grupo Fácil                 Belo Horizonte, MG   \n",
       "290                             Netvagas                 Belo Horizonte, MG   \n",
       "291                             G2i Inc.        Home Office in Minas Gerais   \n",
       "\n",
       "                                                  Link  \n",
       "0    https://br.indeed.com/rc/clk?jk=f0f0b60f99b7ba...  \n",
       "1    https://br.indeed.com/rc/clk?jk=064fa074d318a2...  \n",
       "2    https://br.indeed.com/rc/clk?jk=79f5acab2b8ce2...  \n",
       "3    https://br.indeed.com/rc/clk?jk=673d971751ec4b...  \n",
       "4    https://br.indeed.com/rc/clk?jk=e59beb315b119c...  \n",
       "..                                                 ...  \n",
       "287  https://br.indeed.com/rc/clk?jk=f206170d694262...  \n",
       "288  https://br.indeed.com/rc/clk?jk=5ae813ab021e86...  \n",
       "289  https://br.indeed.com/rc/clk?jk=6ca2f3ec790ea7...  \n",
       "290  https://br.indeed.com/rc/clk?jk=f95b30c0128e74...  \n",
       "291  https://br.indeed.com/rc/clk?jk=02139b21c57ec2...  \n",
       "\n",
       "[292 rows x 4 columns]"
      ]
     },
     "execution_count": 18,
     "metadata": {},
     "output_type": "execute_result"
    }
   ],
   "source": [
    "resultado"
   ]
  }
 ],
 "metadata": {
  "kernelspec": {
   "display_name": "venv",
   "language": "python",
   "name": "python3"
  },
  "language_info": {
   "codemirror_mode": {
    "name": "ipython",
    "version": 3
   },
   "file_extension": ".py",
   "mimetype": "text/x-python",
   "name": "python",
   "nbconvert_exporter": "python",
   "pygments_lexer": "ipython3",
   "version": "3.11.4"
  }
 },
 "nbformat": 4,
 "nbformat_minor": 2
}
