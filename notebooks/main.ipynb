{
 "cells": [
  {
   "cell_type": "markdown",
   "metadata": {},
   "source": [
    "##### Importações:"
   ]
  },
  {
   "cell_type": "code",
   "execution_count": 29,
   "metadata": {},
   "outputs": [],
   "source": [
    "import logging\n",
    "from selenium.webdriver.remote.remote_connection import LOGGER\n",
    "from selenium.common.exceptions import *\n",
    "from selenium.webdriver.support import expected_conditions\n",
    "from selenium.webdriver.support.ui import WebDriverWait\n",
    "from selenium import webdriver\n",
    "from selenium.webdriver.common.by import By\n",
    "from selenium.webdriver.chrome.options import Options\n",
    "from selenium.webdriver.common.keys import Keys\n",
    "from parsel import Selector\n",
    "from time import sleep\n",
    "import random\n",
    "import pandas as pd"
   ]
  },
  {
   "cell_type": "markdown",
   "metadata": {},
   "source": [
    "##### Funções"
   ]
  },
  {
   "cell_type": "markdown",
   "metadata": {},
   "source": [
    "Função que inicia o driver"
   ]
  },
  {
   "cell_type": "code",
   "execution_count": 11,
   "metadata": {},
   "outputs": [],
   "source": [
    "def start_driver():\n",
    "    options = Options()\n",
    "    LOGGER.setLevel(logging.WARNING)\n",
    "    # add arguments to options variable:\n",
    "    arguments = ['--lang=pt-BR', '--window-size=1920,1080'] #'--headless'\n",
    "    for argument in arguments:\n",
    "        options.add_argument(argument)\n",
    "\n",
    "    driver = webdriver.Chrome(options=options)\n",
    "\n",
    "    wait = WebDriverWait(\n",
    "        driver,\n",
    "        10,\n",
    "        poll_frequency=1,\n",
    "        ignored_exceptions=[\n",
    "            NoSuchElementException,\n",
    "            ElementNotVisibleException,\n",
    "            ElementNotSelectableException\n",
    "        ]\n",
    "    )\n",
    "    return driver, wait"
   ]
  },
  {
   "cell_type": "markdown",
   "metadata": {},
   "source": [
    "Função para digitar naturalmente"
   ]
  },
  {
   "cell_type": "code",
   "execution_count": 12,
   "metadata": {},
   "outputs": [],
   "source": [
    "def natural_type(text, field):\n",
    "    for letter in text:\n",
    "        field.send_keys(letter)\n",
    "        sleep(random.randint(1,5)/30)\n"
   ]
  },
  {
   "cell_type": "markdown",
   "metadata": {},
   "source": [
    "Função para abrir a página"
   ]
  },
  {
   "cell_type": "code",
   "execution_count": 13,
   "metadata": {},
   "outputs": [],
   "source": [
    "def get_page(site, driver, wait):\n",
    "    driver.get(site)\n",
    "    wait.until(\n",
    "        expected_conditions.visibility_of_all_elements_located(\n",
    "            (By.XPATH, \"//input[@id='text-input-what']\")\n",
    "        )\n",
    "    )    "
   ]
  },
  {
   "cell_type": "markdown",
   "metadata": {},
   "source": [
    "Função para pesquisar as vagas"
   ]
  },
  {
   "cell_type": "code",
   "execution_count": 14,
   "metadata": {},
   "outputs": [],
   "source": [
    "def search(driver, text):\n",
    "    input_field = driver.find_element(By.XPATH, \"//input[@id='text-input-what']\")\n",
    "    natural_type(text, input_field)\n",
    "    sleep(2)\n",
    "    input_field.send_keys(Keys.ENTER)"
   ]
  },
  {
   "cell_type": "markdown",
   "metadata": {},
   "source": [
    "##### Executando..."
   ]
  },
  {
   "cell_type": "code",
   "execution_count": 32,
   "metadata": {},
   "outputs": [],
   "source": [
    "site = \"https://br.indeed.com\"\n",
    "text = \"Python\""
   ]
  },
  {
   "cell_type": "code",
   "execution_count": 16,
   "metadata": {},
   "outputs": [],
   "source": [
    "driver, wait = start_driver()"
   ]
  },
  {
   "cell_type": "code",
   "execution_count": 17,
   "metadata": {},
   "outputs": [],
   "source": [
    "get_page(site, driver, wait)"
   ]
  },
  {
   "cell_type": "code",
   "execution_count": 18,
   "metadata": {},
   "outputs": [],
   "source": [
    "search(driver, text)"
   ]
  },
  {
   "cell_type": "markdown",
   "metadata": {},
   "source": [
    "Scraping testes"
   ]
  },
  {
   "cell_type": "code",
   "execution_count": 19,
   "metadata": {},
   "outputs": [],
   "source": [
    "response = Selector(text=driver.page_source)"
   ]
  },
  {
   "cell_type": "markdown",
   "metadata": {},
   "source": [
    "Achando os cargos:"
   ]
  },
  {
   "cell_type": "code",
   "execution_count": 20,
   "metadata": {},
   "outputs": [
    {
     "data": {
      "text/plain": [
       "\"//td/div[@class='css-dekpa e37uo190']\""
      ]
     },
     "execution_count": 20,
     "metadata": {},
     "output_type": "execute_result"
    }
   ],
   "source": [
    "# xpath das divs com as informações:\n",
    "\"//td/div[@class='css-dekpa e37uo190']\""
   ]
  },
  {
   "cell_type": "code",
   "execution_count": 21,
   "metadata": {},
   "outputs": [],
   "source": [
    "info = response.xpath(\"//td[@class='resultContent css-1qwrrf0 eu4oa1w0']\")"
   ]
  },
  {
   "cell_type": "code",
   "execution_count": 22,
   "metadata": {},
   "outputs": [
    {
     "data": {
      "text/plain": [
       "'Engenheira(o) de Software - Centro IA'"
      ]
     },
     "execution_count": 22,
     "metadata": {},
     "output_type": "execute_result"
    }
   ],
   "source": [
    "info[0].xpath(\"./div/h2/a/span/text()\").get()"
   ]
  },
  {
   "cell_type": "code",
   "execution_count": 23,
   "metadata": {},
   "outputs": [
    {
     "name": "stdout",
     "output_type": "stream",
     "text": [
      "None\n",
      "None\n",
      "None\n",
      "None\n",
      "None\n",
      "None\n",
      "None\n",
      "None\n",
      "None\n",
      "None\n",
      "None\n",
      "None\n",
      "None\n",
      "None\n",
      "None\n"
     ]
    }
   ],
   "source": [
    "for cargo in info:\n",
    "    print(cargo.xpath(\"./h2/a/span/text()\").get())"
   ]
  },
  {
   "cell_type": "markdown",
   "metadata": {},
   "source": [
    "Achando os **nomes** da empresa:"
   ]
  },
  {
   "cell_type": "markdown",
   "metadata": {},
   "source": [
    "xpath = //div[@class='company_location css-17fky0v e37uo190']/div[@data-testid='text-location']/text()"
   ]
  },
  {
   "cell_type": "code",
   "execution_count": 24,
   "metadata": {},
   "outputs": [
    {
     "data": {
      "text/plain": [
       "'Netvagas'"
      ]
     },
     "execution_count": 24,
     "metadata": {},
     "output_type": "execute_result"
    }
   ],
   "source": [
    "info[2].xpath(\"./div[@class='company_location css-17fky0v e37uo190']//span[@data-testid='company-name']/text()\").get()"
   ]
  },
  {
   "cell_type": "markdown",
   "metadata": {},
   "source": [
    "Achando os **locais** das vagas:"
   ]
  },
  {
   "cell_type": "code",
   "execution_count": 25,
   "metadata": {},
   "outputs": [],
   "source": [
    "info[1].xpath(\"./div[@class='company_location css-17fky0v e37uo190']/div/div[@data-testid='text-location']/text()\").get()"
   ]
  },
  {
   "cell_type": "markdown",
   "metadata": {},
   "source": [
    "Achando os **links** das vagas:"
   ]
  },
  {
   "cell_type": "code",
   "execution_count": 26,
   "metadata": {},
   "outputs": [
    {
     "name": "stdout",
     "output_type": "stream",
     "text": [
      "https://br.indeed.com//pagead/clk?mo=r&ad=-6NYlbfkN0CiU16kVcsoWM1vVFh8O9FB-UbFnlP1pxxBBYLKro3yC46KxQASDEF2Uf2INevJK6cnury13WdNlPc99A5b61Hy6c51j8jpavDBDTsAm79lACDW8P_tSYn02t5bcgD9GX9t0i2ofr8Nsew46P0aRGIskVrH18klGSjD0upUpIIYSViOG53hv-gFdMvLy8s1O_1Aa7fNuTt5pa0X-U10uMA1xa95Nza17JRfptX1siuTpUOUx3t1Tplu2yH2p2PKQX202Dc3AvdKIqSHWE-62NCHG2zuZtVR5sIeuP4c_oY60rw7Cce0_VEdv4Y1BxcAKFPJI7KcHdvv0TNNWAoh48JUbCUD8VTMrIqUncCGh5y9XcjGoMwtQcpa9pf4wpSbwFQw8goc6MIryDo0Q3ubrEwT6PQXgnwQVwsr-McdTtmWdR9Hbg9iaamw_ySvxC3m6RaEBGTBDwLRAn8kb6RQSuftNgjnhADyo-jqIEWfq7ncXWRSepN0rKprofkfWbcIIlrnhmsnc-MJYJsimT8X2rL4xwySbuDApxzvLaK0KSXiyWsijY_ShVnto0zWUNb4qmm0yIgDAuwmStmxjUBiws0LfymlnRdzYhSjjFbsz28W3w==&xkcb=SoBn6_M3_M6yCWwGtZ0KbzkdCdPP&camk=nUmJqO2E8ri8cYTe25DeIg==&p=1&fvj=1&vjs=3\n"
     ]
    }
   ],
   "source": [
    "link = site + info[1].xpath(\"./div/h2/a/@href\").get()\n",
    "print(link)"
   ]
  },
  {
   "cell_type": "markdown",
   "metadata": {},
   "source": [
    "##### Função para scraping"
   ]
  },
  {
   "cell_type": "code",
   "execution_count": 27,
   "metadata": {},
   "outputs": [],
   "source": [
    "def scrape(driver, wait, base_url):\n",
    "    response = Selector(text=driver.page_source)\n",
    "    for vaga in response.xpath(\"//td[@class='resultContent css-1qwrrf0 eu4oa1w0']\"):\n",
    "        yield {\n",
    "            \"Cargo\" : vaga.xpath(\"./div/h2/a/span/text()\").get(),\n",
    "            \"Empresa\" : vaga.xpath(\"./div[@class='company_location css-17fky0v e37uo190']//span[@data-testid='company-name']/text()\").get(),\n",
    "            \"Local\" : vaga.xpath(\"./div[@class='company_location css-17fky0v e37uo190']/div/div[@data-testid='text-location']/text()\").get(),\n",
    "            \"Link\" : base_url + vaga.xpath(\"./div/h2/a/@href\").get()\n",
    "        }"
   ]
  },
  {
   "cell_type": "markdown",
   "metadata": {},
   "source": [
    "##### Coletando dados de várias páginas:"
   ]
  },
  {
   "cell_type": "code",
   "execution_count": null,
   "metadata": {},
   "outputs": [],
   "source": [
    "def main():\n",
    "    "
   ]
  },
  {
   "cell_type": "code",
   "execution_count": 33,
   "metadata": {},
   "outputs": [],
   "source": [
    "dados = pd.DataFrame(list(scrape(driver, wait, site)))"
   ]
  },
  {
   "cell_type": "code",
   "execution_count": 34,
   "metadata": {},
   "outputs": [
    {
     "data": {
      "text/html": [
       "<div>\n",
       "<style scoped>\n",
       "    .dataframe tbody tr th:only-of-type {\n",
       "        vertical-align: middle;\n",
       "    }\n",
       "\n",
       "    .dataframe tbody tr th {\n",
       "        vertical-align: top;\n",
       "    }\n",
       "\n",
       "    .dataframe thead th {\n",
       "        text-align: right;\n",
       "    }\n",
       "</style>\n",
       "<table border=\"1\" class=\"dataframe\">\n",
       "  <thead>\n",
       "    <tr style=\"text-align: right;\">\n",
       "      <th></th>\n",
       "      <th>Cargo</th>\n",
       "      <th>Empresa</th>\n",
       "      <th>Local</th>\n",
       "      <th>Link</th>\n",
       "    </tr>\n",
       "  </thead>\n",
       "  <tbody>\n",
       "    <tr>\n",
       "      <th>0</th>\n",
       "      <td>Engenheira(o) de Software - Centro IA</td>\n",
       "      <td>Dell</td>\n",
       "      <td>Modelo Híbrido in São Paulo, SP</td>\n",
       "      <td>https://br.indeed.com/pagead/clk?mo=r&amp;ad=-6NYl...</td>\n",
       "    </tr>\n",
       "    <tr>\n",
       "      <th>1</th>\n",
       "      <td>QA Analyst (with SQL)</td>\n",
       "      <td>Global Vigilance - Harris Computer Guardian...</td>\n",
       "      <td>None</td>\n",
       "      <td>https://br.indeed.com/pagead/clk?mo=r&amp;ad=-6NYl...</td>\n",
       "    </tr>\n",
       "    <tr>\n",
       "      <th>2</th>\n",
       "      <td>Pessoa desenvolvedora back-end python júnior (...</td>\n",
       "      <td>Netvagas</td>\n",
       "      <td>None</td>\n",
       "      <td>https://br.indeed.com/rc/clk?jk=a45bcc2536dbbd...</td>\n",
       "    </tr>\n",
       "    <tr>\n",
       "      <th>3</th>\n",
       "      <td>Pessoa Desenvolvedora Back-end Python Júnior (...</td>\n",
       "      <td>Gran</td>\n",
       "      <td>None</td>\n",
       "      <td>https://br.indeed.com/rc/clk?jk=10bcda8603838d...</td>\n",
       "    </tr>\n",
       "    <tr>\n",
       "      <th>4</th>\n",
       "      <td>Pessoa Desenvolvedora Python - Trabalho Remoto</td>\n",
       "      <td>BairesDev</td>\n",
       "      <td>Home Office in Porto Alegre, RS</td>\n",
       "      <td>https://br.indeed.com/rc/clk?jk=542931b567264d...</td>\n",
       "    </tr>\n",
       "    <tr>\n",
       "      <th>5</th>\n",
       "      <td>Desenvolvedor Python</td>\n",
       "      <td>PF</td>\n",
       "      <td>Mato Grosso, MT</td>\n",
       "      <td>https://br.indeed.com/rc/clk?jk=4949794b3451ef...</td>\n",
       "    </tr>\n",
       "    <tr>\n",
       "      <th>6</th>\n",
       "      <td>Desenvolvedor Python Pleno</td>\n",
       "      <td>ONR</td>\n",
       "      <td>Home Office in São Paulo, SP</td>\n",
       "      <td>https://br.indeed.com/rc/clk?jk=23b6bdf3cc5435...</td>\n",
       "    </tr>\n",
       "    <tr>\n",
       "      <th>7</th>\n",
       "      <td>Desenvolvedor Backend Júnior Python / Pesquisa...</td>\n",
       "      <td>BairesDev</td>\n",
       "      <td>Home Office in Campinas, SP</td>\n",
       "      <td>https://br.indeed.com/rc/clk?jk=113cea2de99293...</td>\n",
       "    </tr>\n",
       "    <tr>\n",
       "      <th>8</th>\n",
       "      <td>Administrador de Banco de Dados DBA (Infraestr...</td>\n",
       "      <td>Cresol Oficial</td>\n",
       "      <td>Florianópolis, SC</td>\n",
       "      <td>https://br.indeed.com/pagead/clk?mo=r&amp;ad=-6NYl...</td>\n",
       "    </tr>\n",
       "    <tr>\n",
       "      <th>9</th>\n",
       "      <td>Python Data Scientist</td>\n",
       "      <td>Aera Technology &amp; Consulting</td>\n",
       "      <td>None</td>\n",
       "      <td>https://br.indeed.com/rc/clk?jk=ba0ba746196c3d...</td>\n",
       "    </tr>\n",
       "    <tr>\n",
       "      <th>10</th>\n",
       "      <td>Desenvolvedora/Engenheira Python - Trabalho Re...</td>\n",
       "      <td>BairesDev</td>\n",
       "      <td>Home Office in Belo Horizonte, MG</td>\n",
       "      <td>https://br.indeed.com/rc/clk?jk=064fa074d318a2...</td>\n",
       "    </tr>\n",
       "    <tr>\n",
       "      <th>11</th>\n",
       "      <td>Desenvolvedora Python júnior (Vaga afirmativa ...</td>\n",
       "      <td>Experian</td>\n",
       "      <td>Home Office in São Paulo, SP</td>\n",
       "      <td>https://br.indeed.com/rc/clk?jk=ce091e9ce3c36f...</td>\n",
       "    </tr>\n",
       "    <tr>\n",
       "      <th>12</th>\n",
       "      <td>SOFTWARE ENGINEER JUNIOR - PYTHON (100% REMOTO)</td>\n",
       "      <td>ClearSale</td>\n",
       "      <td>None</td>\n",
       "      <td>https://br.indeed.com/rc/clk?jk=8b2883b0a6448f...</td>\n",
       "    </tr>\n",
       "    <tr>\n",
       "      <th>13</th>\n",
       "      <td>Engenheiro Python - Trabalho Remoto</td>\n",
       "      <td>BairesDev</td>\n",
       "      <td>Home Office in Campo Grande, MS</td>\n",
       "      <td>https://br.indeed.com/rc/clk?jk=bdac2a57ae8d44...</td>\n",
       "    </tr>\n",
       "    <tr>\n",
       "      <th>14</th>\n",
       "      <td>Pessoa Desenvolvedora Backend Node/Python</td>\n",
       "      <td>Zup Innovation</td>\n",
       "      <td>None</td>\n",
       "      <td>https://br.indeed.com/rc/clk?jk=c1c632aa5436ea...</td>\n",
       "    </tr>\n",
       "  </tbody>\n",
       "</table>\n",
       "</div>"
      ],
      "text/plain": [
       "                                                Cargo  \\\n",
       "0               Engenheira(o) de Software - Centro IA   \n",
       "1                               QA Analyst (with SQL)   \n",
       "2   Pessoa desenvolvedora back-end python júnior (...   \n",
       "3   Pessoa Desenvolvedora Back-end Python Júnior (...   \n",
       "4      Pessoa Desenvolvedora Python - Trabalho Remoto   \n",
       "5                                Desenvolvedor Python   \n",
       "6                          Desenvolvedor Python Pleno   \n",
       "7   Desenvolvedor Backend Júnior Python / Pesquisa...   \n",
       "8   Administrador de Banco de Dados DBA (Infraestr...   \n",
       "9                               Python Data Scientist   \n",
       "10  Desenvolvedora/Engenheira Python - Trabalho Re...   \n",
       "11  Desenvolvedora Python júnior (Vaga afirmativa ...   \n",
       "12    SOFTWARE ENGINEER JUNIOR - PYTHON (100% REMOTO)   \n",
       "13                Engenheiro Python - Trabalho Remoto   \n",
       "14          Pessoa Desenvolvedora Backend Node/Python   \n",
       "\n",
       "                                           Empresa  \\\n",
       "0                                             Dell   \n",
       "1   Global Vigilance - Harris Computer Guardian...   \n",
       "2                                         Netvagas   \n",
       "3                                             Gran   \n",
       "4                                        BairesDev   \n",
       "5                                               PF   \n",
       "6                                              ONR   \n",
       "7                                        BairesDev   \n",
       "8                                   Cresol Oficial   \n",
       "9                     Aera Technology & Consulting   \n",
       "10                                       BairesDev   \n",
       "11                                        Experian   \n",
       "12                                       ClearSale   \n",
       "13                                       BairesDev   \n",
       "14                                  Zup Innovation   \n",
       "\n",
       "                                Local  \\\n",
       "0     Modelo Híbrido in São Paulo, SP   \n",
       "1                                None   \n",
       "2                                None   \n",
       "3                                None   \n",
       "4     Home Office in Porto Alegre, RS   \n",
       "5                     Mato Grosso, MT   \n",
       "6        Home Office in São Paulo, SP   \n",
       "7         Home Office in Campinas, SP   \n",
       "8                   Florianópolis, SC   \n",
       "9                                None   \n",
       "10  Home Office in Belo Horizonte, MG   \n",
       "11       Home Office in São Paulo, SP   \n",
       "12                               None   \n",
       "13    Home Office in Campo Grande, MS   \n",
       "14                               None   \n",
       "\n",
       "                                                 Link  \n",
       "0   https://br.indeed.com/pagead/clk?mo=r&ad=-6NYl...  \n",
       "1   https://br.indeed.com/pagead/clk?mo=r&ad=-6NYl...  \n",
       "2   https://br.indeed.com/rc/clk?jk=a45bcc2536dbbd...  \n",
       "3   https://br.indeed.com/rc/clk?jk=10bcda8603838d...  \n",
       "4   https://br.indeed.com/rc/clk?jk=542931b567264d...  \n",
       "5   https://br.indeed.com/rc/clk?jk=4949794b3451ef...  \n",
       "6   https://br.indeed.com/rc/clk?jk=23b6bdf3cc5435...  \n",
       "7   https://br.indeed.com/rc/clk?jk=113cea2de99293...  \n",
       "8   https://br.indeed.com/pagead/clk?mo=r&ad=-6NYl...  \n",
       "9   https://br.indeed.com/rc/clk?jk=ba0ba746196c3d...  \n",
       "10  https://br.indeed.com/rc/clk?jk=064fa074d318a2...  \n",
       "11  https://br.indeed.com/rc/clk?jk=ce091e9ce3c36f...  \n",
       "12  https://br.indeed.com/rc/clk?jk=8b2883b0a6448f...  \n",
       "13  https://br.indeed.com/rc/clk?jk=bdac2a57ae8d44...  \n",
       "14  https://br.indeed.com/rc/clk?jk=c1c632aa5436ea...  "
      ]
     },
     "execution_count": 34,
     "metadata": {},
     "output_type": "execute_result"
    }
   ],
   "source": [
    "dados"
   ]
  }
 ],
 "metadata": {
  "kernelspec": {
   "display_name": "venv",
   "language": "python",
   "name": "python3"
  },
  "language_info": {
   "codemirror_mode": {
    "name": "ipython",
    "version": 3
   },
   "file_extension": ".py",
   "mimetype": "text/x-python",
   "name": "python",
   "nbconvert_exporter": "python",
   "pygments_lexer": "ipython3",
   "version": "3.11.4"
  }
 },
 "nbformat": 4,
 "nbformat_minor": 2
}
